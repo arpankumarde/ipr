{
 "cells": [
  {
   "cell_type": "code",
   "execution_count": 2,
   "id": "d0cd78a4",
   "metadata": {},
   "outputs": [],
   "source": [
    "import numpy as np\n",
    "import pandas as pd\n",
    "import matplotlib.pyplot as plt\n",
    "import seaborn as sns"
   ]
  },
  {
   "cell_type": "code",
   "execution_count": 3,
   "id": "5a9ae828",
   "metadata": {
    "execution": {
     "iopub.execute_input": "2024-10-17T18:59:13.839356Z",
     "iopub.status.busy": "2024-10-17T18:59:13.838776Z",
     "iopub.status.idle": "2024-10-17T18:59:13.888597Z",
     "shell.execute_reply": "2024-10-17T18:59:13.887379Z"
    },
    "papermill": {
     "duration": 0.06364,
     "end_time": "2024-10-17T18:59:13.891518",
     "exception": false,
     "start_time": "2024-10-17T18:59:13.827878",
     "status": "completed"
    },
    "tags": []
   },
   "outputs": [],
   "source": [
    "with open(\"./data/train.csv\") as f:\n",
    "    train_data = pd.read_csv(f)\n",
    "with open(\"./data/test.csv\") as f:\n",
    "    test_data = pd.read_csv(f)\n",
    "with open(\"./data/gender_submission.csv\") as f:\n",
    "    example_submission = pd.read_csv(f)"
   ]
  },
  {
   "cell_type": "code",
   "execution_count": 4,
   "id": "c566a611",
   "metadata": {
    "execution": {
     "iopub.execute_input": "2024-10-17T18:59:13.913352Z",
     "iopub.status.busy": "2024-10-17T18:59:13.912254Z",
     "iopub.status.idle": "2024-10-17T18:59:16.386835Z",
     "shell.execute_reply": "2024-10-17T18:59:16.385528Z"
    },
    "papermill": {
     "duration": 2.488796,
     "end_time": "2024-10-17T18:59:16.389717",
     "exception": false,
     "start_time": "2024-10-17T18:59:13.900921",
     "status": "completed"
    },
    "tags": []
   },
   "outputs": [],
   "source": [
    "from sklearn.ensemble import RandomForestClassifier\n",
    "from sklearn.impute import SimpleImputer\n",
    "from sklearn.model_selection import train_test_split, GridSearchCV\n",
    "from sklearn.metrics import f1_score, precision_score, recall_score, accuracy_score"
   ]
  },
  {
   "cell_type": "code",
   "execution_count": 5,
   "id": "021c22b5",
   "metadata": {
    "execution": {
     "iopub.execute_input": "2024-10-17T18:59:16.411035Z",
     "iopub.status.busy": "2024-10-17T18:59:16.410371Z",
     "iopub.status.idle": "2024-10-17T18:59:16.443322Z",
     "shell.execute_reply": "2024-10-17T18:59:16.441949Z"
    },
    "papermill": {
     "duration": 0.046762,
     "end_time": "2024-10-17T18:59:16.446151",
     "exception": false,
     "start_time": "2024-10-17T18:59:16.399389",
     "status": "completed"
    },
    "tags": []
   },
   "outputs": [
    {
     "data": {
      "text/html": [
       "<div>\n",
       "<style scoped>\n",
       "    .dataframe tbody tr th:only-of-type {\n",
       "        vertical-align: middle;\n",
       "    }\n",
       "\n",
       "    .dataframe tbody tr th {\n",
       "        vertical-align: top;\n",
       "    }\n",
       "\n",
       "    .dataframe thead th {\n",
       "        text-align: right;\n",
       "    }\n",
       "</style>\n",
       "<table border=\"1\" class=\"dataframe\">\n",
       "  <thead>\n",
       "    <tr style=\"text-align: right;\">\n",
       "      <th></th>\n",
       "      <th>PassengerId</th>\n",
       "      <th>Survived</th>\n",
       "      <th>Pclass</th>\n",
       "      <th>Name</th>\n",
       "      <th>Sex</th>\n",
       "      <th>Age</th>\n",
       "      <th>SibSp</th>\n",
       "      <th>Parch</th>\n",
       "      <th>Ticket</th>\n",
       "      <th>Fare</th>\n",
       "      <th>Cabin</th>\n",
       "      <th>Embarked</th>\n",
       "    </tr>\n",
       "  </thead>\n",
       "  <tbody>\n",
       "    <tr>\n",
       "      <th>0</th>\n",
       "      <td>1</td>\n",
       "      <td>0</td>\n",
       "      <td>3</td>\n",
       "      <td>Braund, Mr. Owen Harris</td>\n",
       "      <td>male</td>\n",
       "      <td>22.0</td>\n",
       "      <td>1</td>\n",
       "      <td>0</td>\n",
       "      <td>A/5 21171</td>\n",
       "      <td>7.2500</td>\n",
       "      <td>NaN</td>\n",
       "      <td>S</td>\n",
       "    </tr>\n",
       "    <tr>\n",
       "      <th>1</th>\n",
       "      <td>2</td>\n",
       "      <td>1</td>\n",
       "      <td>1</td>\n",
       "      <td>Cumings, Mrs. John Bradley (Florence Briggs Th...</td>\n",
       "      <td>female</td>\n",
       "      <td>38.0</td>\n",
       "      <td>1</td>\n",
       "      <td>0</td>\n",
       "      <td>PC 17599</td>\n",
       "      <td>71.2833</td>\n",
       "      <td>C85</td>\n",
       "      <td>C</td>\n",
       "    </tr>\n",
       "    <tr>\n",
       "      <th>2</th>\n",
       "      <td>3</td>\n",
       "      <td>1</td>\n",
       "      <td>3</td>\n",
       "      <td>Heikkinen, Miss. Laina</td>\n",
       "      <td>female</td>\n",
       "      <td>26.0</td>\n",
       "      <td>0</td>\n",
       "      <td>0</td>\n",
       "      <td>STON/O2. 3101282</td>\n",
       "      <td>7.9250</td>\n",
       "      <td>NaN</td>\n",
       "      <td>S</td>\n",
       "    </tr>\n",
       "    <tr>\n",
       "      <th>3</th>\n",
       "      <td>4</td>\n",
       "      <td>1</td>\n",
       "      <td>1</td>\n",
       "      <td>Futrelle, Mrs. Jacques Heath (Lily May Peel)</td>\n",
       "      <td>female</td>\n",
       "      <td>35.0</td>\n",
       "      <td>1</td>\n",
       "      <td>0</td>\n",
       "      <td>113803</td>\n",
       "      <td>53.1000</td>\n",
       "      <td>C123</td>\n",
       "      <td>S</td>\n",
       "    </tr>\n",
       "    <tr>\n",
       "      <th>4</th>\n",
       "      <td>5</td>\n",
       "      <td>0</td>\n",
       "      <td>3</td>\n",
       "      <td>Allen, Mr. William Henry</td>\n",
       "      <td>male</td>\n",
       "      <td>35.0</td>\n",
       "      <td>0</td>\n",
       "      <td>0</td>\n",
       "      <td>373450</td>\n",
       "      <td>8.0500</td>\n",
       "      <td>NaN</td>\n",
       "      <td>S</td>\n",
       "    </tr>\n",
       "  </tbody>\n",
       "</table>\n",
       "</div>"
      ],
      "text/plain": [
       "   PassengerId  Survived  Pclass  \\\n",
       "0            1         0       3   \n",
       "1            2         1       1   \n",
       "2            3         1       3   \n",
       "3            4         1       1   \n",
       "4            5         0       3   \n",
       "\n",
       "                                                Name     Sex   Age  SibSp  \\\n",
       "0                            Braund, Mr. Owen Harris    male  22.0      1   \n",
       "1  Cumings, Mrs. John Bradley (Florence Briggs Th...  female  38.0      1   \n",
       "2                             Heikkinen, Miss. Laina  female  26.0      0   \n",
       "3       Futrelle, Mrs. Jacques Heath (Lily May Peel)  female  35.0      1   \n",
       "4                           Allen, Mr. William Henry    male  35.0      0   \n",
       "\n",
       "   Parch            Ticket     Fare Cabin Embarked  \n",
       "0      0         A/5 21171   7.2500   NaN        S  \n",
       "1      0          PC 17599  71.2833   C85        C  \n",
       "2      0  STON/O2. 3101282   7.9250   NaN        S  \n",
       "3      0            113803  53.1000  C123        S  \n",
       "4      0            373450   8.0500   NaN        S  "
      ]
     },
     "execution_count": 5,
     "metadata": {},
     "output_type": "execute_result"
    }
   ],
   "source": [
    "train_data.head()"
   ]
  },
  {
   "cell_type": "code",
   "execution_count": 6,
   "id": "15350ea9",
   "metadata": {
    "execution": {
     "iopub.execute_input": "2024-10-17T18:59:16.468082Z",
     "iopub.status.busy": "2024-10-17T18:59:16.467632Z",
     "iopub.status.idle": "2024-10-17T18:59:16.505663Z",
     "shell.execute_reply": "2024-10-17T18:59:16.504272Z"
    },
    "papermill": {
     "duration": 0.052157,
     "end_time": "2024-10-17T18:59:16.508457",
     "exception": false,
     "start_time": "2024-10-17T18:59:16.456300",
     "status": "completed"
    },
    "tags": []
   },
   "outputs": [
    {
     "name": "stdout",
     "output_type": "stream",
     "text": [
      "<class 'pandas.core.frame.DataFrame'>\n",
      "RangeIndex: 891 entries, 0 to 890\n",
      "Data columns (total 12 columns):\n",
      " #   Column       Non-Null Count  Dtype  \n",
      "---  ------       --------------  -----  \n",
      " 0   PassengerId  891 non-null    int64  \n",
      " 1   Survived     891 non-null    int64  \n",
      " 2   Pclass       891 non-null    int64  \n",
      " 3   Name         891 non-null    object \n",
      " 4   Sex          891 non-null    object \n",
      " 5   Age          714 non-null    float64\n",
      " 6   SibSp        891 non-null    int64  \n",
      " 7   Parch        891 non-null    int64  \n",
      " 8   Ticket       891 non-null    object \n",
      " 9   Fare         891 non-null    float64\n",
      " 10  Cabin        204 non-null    object \n",
      " 11  Embarked     889 non-null    object \n",
      "dtypes: float64(2), int64(5), object(5)\n",
      "memory usage: 83.7+ KB\n"
     ]
    }
   ],
   "source": [
    "train_data.info()"
   ]
  },
  {
   "cell_type": "code",
   "execution_count": 7,
   "id": "84db2a86",
   "metadata": {
    "execution": {
     "iopub.execute_input": "2024-10-17T18:59:16.531897Z",
     "iopub.status.busy": "2024-10-17T18:59:16.531051Z",
     "iopub.status.idle": "2024-10-17T18:59:16.544528Z",
     "shell.execute_reply": "2024-10-17T18:59:16.543088Z"
    },
    "papermill": {
     "duration": 0.027755,
     "end_time": "2024-10-17T18:59:16.547644",
     "exception": false,
     "start_time": "2024-10-17T18:59:16.519889",
     "status": "completed"
    },
    "tags": []
   },
   "outputs": [
    {
     "name": "stdout",
     "output_type": "stream",
     "text": [
      "<class 'pandas.core.frame.DataFrame'>\n",
      "RangeIndex: 418 entries, 0 to 417\n",
      "Data columns (total 11 columns):\n",
      " #   Column       Non-Null Count  Dtype  \n",
      "---  ------       --------------  -----  \n",
      " 0   PassengerId  418 non-null    int64  \n",
      " 1   Pclass       418 non-null    int64  \n",
      " 2   Name         418 non-null    object \n",
      " 3   Sex          418 non-null    object \n",
      " 4   Age          332 non-null    float64\n",
      " 5   SibSp        418 non-null    int64  \n",
      " 6   Parch        418 non-null    int64  \n",
      " 7   Ticket       418 non-null    object \n",
      " 8   Fare         417 non-null    float64\n",
      " 9   Cabin        91 non-null     object \n",
      " 10  Embarked     418 non-null    object \n",
      "dtypes: float64(2), int64(4), object(5)\n",
      "memory usage: 36.1+ KB\n"
     ]
    }
   ],
   "source": [
    "test_data.info()"
   ]
  },
  {
   "cell_type": "code",
   "execution_count": 8,
   "id": "dd429d8a",
   "metadata": {
    "execution": {
     "iopub.execute_input": "2024-10-17T18:59:16.570326Z",
     "iopub.status.busy": "2024-10-17T18:59:16.569852Z",
     "iopub.status.idle": "2024-10-17T18:59:16.576609Z",
     "shell.execute_reply": "2024-10-17T18:59:16.575258Z"
    },
    "papermill": {
     "duration": 0.020864,
     "end_time": "2024-10-17T18:59:16.579246",
     "exception": false,
     "start_time": "2024-10-17T18:59:16.558382",
     "status": "completed"
    },
    "tags": []
   },
   "outputs": [],
   "source": [
    "train_copy = train_data.copy()\n",
    "test_copy = test_data.copy()"
   ]
  },
  {
   "cell_type": "code",
   "execution_count": 9,
   "id": "3e7555c2",
   "metadata": {
    "execution": {
     "iopub.execute_input": "2024-10-17T18:59:16.600944Z",
     "iopub.status.busy": "2024-10-17T18:59:16.600514Z",
     "iopub.status.idle": "2024-10-17T18:59:16.609738Z",
     "shell.execute_reply": "2024-10-17T18:59:16.608534Z"
    },
    "papermill": {
     "duration": 0.023142,
     "end_time": "2024-10-17T18:59:16.612362",
     "exception": false,
     "start_time": "2024-10-17T18:59:16.589220",
     "status": "completed"
    },
    "tags": []
   },
   "outputs": [],
   "source": [
    "train_copy[\"Cabin\"] = train_copy[\"Cabin\"].apply(lambda x: 1 if type(x) == str else 0)\n",
    "test_copy[\"Cabin\"] = test_copy[\"Cabin\"].apply(lambda x: 1 if type(x) == str else 0)"
   ]
  },
  {
   "cell_type": "code",
   "execution_count": 10,
   "id": "f2dbb8d8",
   "metadata": {
    "execution": {
     "iopub.execute_input": "2024-10-17T18:59:16.634204Z",
     "iopub.status.busy": "2024-10-17T18:59:16.633705Z",
     "iopub.status.idle": "2024-10-17T18:59:16.646829Z",
     "shell.execute_reply": "2024-10-17T18:59:16.645617Z"
    },
    "papermill": {
     "duration": 0.027726,
     "end_time": "2024-10-17T18:59:16.650171",
     "exception": false,
     "start_time": "2024-10-17T18:59:16.622445",
     "status": "completed"
    },
    "tags": []
   },
   "outputs": [],
   "source": [
    "train_copy = train_copy.dropna(subset=[\"Embarked\"])"
   ]
  },
  {
   "cell_type": "code",
   "execution_count": 11,
   "id": "69bbc06f",
   "metadata": {
    "execution": {
     "iopub.execute_input": "2024-10-17T18:59:16.672246Z",
     "iopub.status.busy": "2024-10-17T18:59:16.671797Z",
     "iopub.status.idle": "2024-10-17T18:59:16.687313Z",
     "shell.execute_reply": "2024-10-17T18:59:16.686346Z"
    },
    "papermill": {
     "duration": 0.029637,
     "end_time": "2024-10-17T18:59:16.689878",
     "exception": false,
     "start_time": "2024-10-17T18:59:16.660241",
     "status": "completed"
    },
    "tags": []
   },
   "outputs": [],
   "source": [
    "train_dummies = pd.get_dummies(train_copy, columns=[\"Sex\", \"Embarked\"], drop_first=True)\n",
    "test_dummies = pd.get_dummies(test_copy, columns=[\"Sex\", \"Embarked\"], drop_first=True)"
   ]
  },
  {
   "cell_type": "code",
   "execution_count": 12,
   "id": "14f69b99",
   "metadata": {
    "execution": {
     "iopub.execute_input": "2024-10-17T18:59:16.711794Z",
     "iopub.status.busy": "2024-10-17T18:59:16.711315Z",
     "iopub.status.idle": "2024-10-17T18:59:16.719333Z",
     "shell.execute_reply": "2024-10-17T18:59:16.718130Z"
    },
    "papermill": {
     "duration": 0.022112,
     "end_time": "2024-10-17T18:59:16.722067",
     "exception": false,
     "start_time": "2024-10-17T18:59:16.699955",
     "status": "completed"
    },
    "tags": []
   },
   "outputs": [],
   "source": [
    "features = train_dummies.drop([\"Survived\", \"PassengerId\", \"Name\", \"Ticket\"], axis=1)\n",
    "target = train_dummies[\"Survived\"]"
   ]
  },
  {
   "cell_type": "code",
   "execution_count": 13,
   "id": "0b96943e",
   "metadata": {
    "execution": {
     "iopub.execute_input": "2024-10-17T18:59:16.743654Z",
     "iopub.status.busy": "2024-10-17T18:59:16.743198Z",
     "iopub.status.idle": "2024-10-17T18:59:17.193586Z",
     "shell.execute_reply": "2024-10-17T18:59:17.192266Z"
    },
    "papermill": {
     "duration": 0.464347,
     "end_time": "2024-10-17T18:59:17.196333",
     "exception": false,
     "start_time": "2024-10-17T18:59:16.731986",
     "status": "completed"
    },
    "tags": []
   },
   "outputs": [
    {
     "data": {
      "image/png": "[encoded data removed]",
      "text/plain": [
       "<Figure size 640x480 with 2 Axes>"
      ]
     },
     "metadata": {},
     "output_type": "display_data"
    }
   ],
   "source": [
    "corr_matrix = features.corr()\n",
    "sns.heatmap(corr_matrix)\n",
    "plt.show()"
   ]
  },
  {
   "cell_type": "code",
   "execution_count": 14,
   "id": "fa87775d",
   "metadata": {
    "execution": {
     "iopub.execute_input": "2024-10-17T18:59:17.219484Z",
     "iopub.status.busy": "2024-10-17T18:59:17.218997Z",
     "iopub.status.idle": "2024-10-17T18:59:17.226144Z",
     "shell.execute_reply": "2024-10-17T18:59:17.224796Z"
    },
    "papermill": {
     "duration": 0.021931,
     "end_time": "2024-10-17T18:59:17.228987",
     "exception": false,
     "start_time": "2024-10-17T18:59:17.207056",
     "status": "completed"
    },
    "tags": []
   },
   "outputs": [],
   "source": [
    "test_set = test_dummies.drop([\"PassengerId\", \"Name\", \"Ticket\"], axis=1)"
   ]
  },
  {
   "cell_type": "code",
   "execution_count": 15,
   "id": "11b3e54a",
   "metadata": {
    "execution": {
     "iopub.execute_input": "2024-10-17T18:59:17.253538Z",
     "iopub.status.busy": "2024-10-17T18:59:17.252217Z",
     "iopub.status.idle": "2024-10-17T18:59:17.277222Z",
     "shell.execute_reply": "2024-10-17T18:59:17.275003Z"
    },
    "papermill": {
     "duration": 0.040024,
     "end_time": "2024-10-17T18:59:17.280139",
     "exception": false,
     "start_time": "2024-10-17T18:59:17.240115",
     "status": "completed"
    },
    "tags": []
   },
   "outputs": [
    {
     "name": "stdout",
     "output_type": "stream",
     "text": [
      "<class 'pandas.core.frame.DataFrame'>\n",
      "Index: 889 entries, 0 to 890\n",
      "Data columns (total 9 columns):\n",
      " #   Column      Non-Null Count  Dtype  \n",
      "---  ------      --------------  -----  \n",
      " 0   Pclass      889 non-null    int64  \n",
      " 1   Age         712 non-null    float64\n",
      " 2   SibSp       889 non-null    int64  \n",
      " 3   Parch       889 non-null    int64  \n",
      " 4   Fare        889 non-null    float64\n",
      " 5   Cabin       889 non-null    int64  \n",
      " 6   Sex_male    889 non-null    bool   \n",
      " 7   Embarked_Q  889 non-null    bool   \n",
      " 8   Embarked_S  889 non-null    bool   \n",
      "dtypes: bool(3), float64(2), int64(4)\n",
      "memory usage: 51.2 KB\n",
      "\n",
      "<class 'pandas.core.series.Series'>\n",
      "Index: 889 entries, 0 to 890\n",
      "Series name: Survived\n",
      "Non-Null Count  Dtype\n",
      "--------------  -----\n",
      "889 non-null    int64\n",
      "dtypes: int64(1)\n",
      "memory usage: 13.9 KB\n",
      "\n",
      "<class 'pandas.core.frame.DataFrame'>\n",
      "RangeIndex: 418 entries, 0 to 417\n",
      "Data columns (total 9 columns):\n",
      " #   Column      Non-Null Count  Dtype  \n",
      "---  ------      --------------  -----  \n",
      " 0   Pclass      418 non-null    int64  \n",
      " 1   Age         332 non-null    float64\n",
      " 2   SibSp       418 non-null    int64  \n",
      " 3   Parch       418 non-null    int64  \n",
      " 4   Fare        417 non-null    float64\n",
      " 5   Cabin       418 non-null    int64  \n",
      " 6   Sex_male    418 non-null    bool   \n",
      " 7   Embarked_Q  418 non-null    bool   \n",
      " 8   Embarked_S  418 non-null    bool   \n",
      "dtypes: bool(3), float64(2), int64(4)\n",
      "memory usage: 20.9 KB\n"
     ]
    }
   ],
   "source": [
    "features.info()\n",
    "print(\"\")\n",
    "target.info()\n",
    "print(\"\")\n",
    "test_set.info()"
   ]
  },
  {
   "cell_type": "code",
   "execution_count": 16,
   "id": "bd0c8ae4",
   "metadata": {
    "execution": {
     "iopub.execute_input": "2024-10-17T18:59:17.304138Z",
     "iopub.status.busy": "2024-10-17T18:59:17.303614Z",
     "iopub.status.idle": "2024-10-17T18:59:17.321311Z",
     "shell.execute_reply": "2024-10-17T18:59:17.320249Z"
    },
    "papermill": {
     "duration": 0.032898,
     "end_time": "2024-10-17T18:59:17.324040",
     "exception": false,
     "start_time": "2024-10-17T18:59:17.291142",
     "status": "completed"
    },
    "tags": []
   },
   "outputs": [],
   "source": [
    "imputer = SimpleImputer(missing_values=np.nan, strategy=\"mean\")\n",
    "imputer.fit(features[[\"Age\"]])\n",
    "features[\"Age\"] = imputer.transform(features[[\"Age\"]])\n",
    "test_set[\"Age\"] = imputer.transform(test_set[[\"Age\"]])"
   ]
  },
  {
   "cell_type": "code",
   "execution_count": 17,
   "id": "45e8e08b",
   "metadata": {
    "execution": {
     "iopub.execute_input": "2024-10-17T18:59:17.347461Z",
     "iopub.status.busy": "2024-10-17T18:59:17.347049Z",
     "iopub.status.idle": "2024-10-17T18:59:17.359751Z",
     "shell.execute_reply": "2024-10-17T18:59:17.358527Z"
    },
    "papermill": {
     "duration": 0.027704,
     "end_time": "2024-10-17T18:59:17.362441",
     "exception": false,
     "start_time": "2024-10-17T18:59:17.334737",
     "status": "completed"
    },
    "tags": []
   },
   "outputs": [],
   "source": [
    "imputer = SimpleImputer(missing_values=np.nan, strategy=\"mean\")\n",
    "imputer.fit(test_set[[\"Fare\"]])\n",
    "test_set[\"Fare\"] = imputer.transform(test_set[[\"Fare\"]])"
   ]
  },
  {
   "cell_type": "code",
   "execution_count": 18,
   "id": "0f5a1839",
   "metadata": {
    "execution": {
     "iopub.execute_input": "2024-10-17T18:59:17.385868Z",
     "iopub.status.busy": "2024-10-17T18:59:17.385400Z",
     "iopub.status.idle": "2024-10-17T18:59:17.396320Z",
     "shell.execute_reply": "2024-10-17T18:59:17.395070Z"
    },
    "papermill": {
     "duration": 0.025792,
     "end_time": "2024-10-17T18:59:17.399184",
     "exception": false,
     "start_time": "2024-10-17T18:59:17.373392",
     "status": "completed"
    },
    "tags": []
   },
   "outputs": [],
   "source": [
    "X_train, X_test, y_train, y_test = train_test_split(\n",
    "    features, target, test_size=0.2, random_state=0\n",
    ")"
   ]
  },
  {
   "cell_type": "code",
   "execution_count": 19,
   "id": "325b5bff",
   "metadata": {
    "execution": {
     "iopub.execute_input": "2024-10-17T18:59:17.424148Z",
     "iopub.status.busy": "2024-10-17T18:59:17.423180Z",
     "iopub.status.idle": "2024-10-17T18:59:17.429361Z",
     "shell.execute_reply": "2024-10-17T18:59:17.428120Z"
    },
    "papermill": {
     "duration": 0.021979,
     "end_time": "2024-10-17T18:59:17.431937",
     "exception": false,
     "start_time": "2024-10-17T18:59:17.409958",
     "status": "completed"
    },
    "tags": []
   },
   "outputs": [],
   "source": [
    "rf = RandomForestClassifier(random_state=0)"
   ]
  },
  {
   "cell_type": "code",
   "execution_count": 20,
   "id": "4fb340ab",
   "metadata": {
    "execution": {
     "iopub.execute_input": "2024-10-17T18:59:17.455614Z",
     "iopub.status.busy": "2024-10-17T18:59:17.455171Z",
     "iopub.status.idle": "2024-10-17T18:59:17.461662Z",
     "shell.execute_reply": "2024-10-17T18:59:17.460482Z"
    },
    "papermill": {
     "duration": 0.021439,
     "end_time": "2024-10-17T18:59:17.464339",
     "exception": false,
     "start_time": "2024-10-17T18:59:17.442900",
     "status": "completed"
    },
    "tags": []
   },
   "outputs": [],
   "source": [
    "cv_params = {\n",
    "    \"n_estimators\": [50, 100, 200],\n",
    "\n",
    "    \"max_depth\": [3, 5, 10],\n",
    "\n",
    "    \"min_samples_leaf\": [0.5, 1, 2, 5],\n",
    "\n",
    "    \"min_samples_split\": [0.001, 0.01, 0.05],\n",
    "\n",
    "    \"max_features\": [\"sqrt\"],\n",
    "\n",
    "    \"max_samples\": [0.5, 0.9],\n",
    "}"
   ]
  },
  {
   "cell_type": "code",
   "execution_count": 21,
   "id": "87838f15",
   "metadata": {
    "execution": {
     "iopub.execute_input": "2024-10-17T18:59:17.487848Z",
     "iopub.status.busy": "2024-10-17T18:59:17.486962Z",
     "iopub.status.idle": "2024-10-17T18:59:17.493157Z",
     "shell.execute_reply": "2024-10-17T18:59:17.491923Z"
    },
    "papermill": {
     "duration": 0.020649,
     "end_time": "2024-10-17T18:59:17.495707",
     "exception": false,
     "start_time": "2024-10-17T18:59:17.475058",
     "status": "completed"
    },
    "tags": []
   },
   "outputs": [],
   "source": [
    "rf_grid = GridSearchCV(rf, param_grid=cv_params, cv=5, refit=\"f1\", n_jobs=-1, verbose=1)"
   ]
  },
  {
   "cell_type": "code",
   "execution_count": 22,
   "id": "cc9572be",
   "metadata": {
    "execution": {
     "iopub.execute_input": "2024-10-17T18:59:17.521018Z",
     "iopub.status.busy": "2024-10-17T18:59:17.520171Z",
     "iopub.status.idle": "2024-10-17T19:01:23.946408Z",
     "shell.execute_reply": "2024-10-17T19:01:23.944726Z"
    },
    "papermill": {
     "duration": 126.451464,
     "end_time": "2024-10-17T19:01:23.959564",
     "exception": false,
     "start_time": "2024-10-17T18:59:17.508100",
     "status": "completed"
    },
    "tags": []
   },
   "outputs": [
    {
     "name": "stdout",
     "output_type": "stream",
     "text": [
      "Fitting 5 folds for each of 216 candidates, totalling 1080 fits\n"
     ]
    },
    {
     "name": "stderr",
     "output_type": "stream",
     "text": [
      "c:\\Users\\aloke.de\\Documents\\titanic\\venv\\Lib\\site-packages\\numpy\\ma\\core.py:2881: RuntimeWarning: invalid value encountered in cast\n",
      "  _data = np.array(data, dtype=dtype, copy=copy,\n"
     ]
    },
    {
     "name": "stdout",
     "output_type": "stream",
     "text": [
      "{'max_depth': 5, 'max_features': 'sqrt', 'max_samples': 0.9, 'min_samples_leaf': 2, 'min_samples_split': 0.01, 'n_estimators': 100}\n"
     ]
    }
   ],
   "source": [
    "rf_grid.fit(X_train, y_train)\n",
    "\n",
    "\n",
    "print(rf_grid.best_params_)"
   ]
  },
  {
   "cell_type": "code",
   "execution_count": 23,
   "id": "de16b1b1",
   "metadata": {
    "execution": {
     "iopub.execute_input": "2024-10-17T19:01:23.984417Z",
     "iopub.status.busy": "2024-10-17T19:01:23.983936Z",
     "iopub.status.idle": "2024-10-17T19:01:24.256779Z",
     "shell.execute_reply": "2024-10-17T19:01:24.255566Z"
    },
    "papermill": {
     "duration": 0.289006,
     "end_time": "2024-10-17T19:01:24.259627",
     "exception": false,
     "start_time": "2024-10-17T19:01:23.970621",
     "status": "completed"
    },
    "tags": []
   },
   "outputs": [
    {
     "data": {
      "text/html": [
       "<style>#sk-container-id-1 {\n",
       "  /* Definition of color scheme common for light and dark mode */\n",
       "  --sklearn-color-text: black;\n",
       "  --sklearn-color-line: gray;\n",
       "  /* Definition of color scheme for unfitted estimators */\n",
       "  --sklearn-color-unfitted-level-0: #fff5e6;\n",
       "  --sklearn-color-unfitted-level-1: #f6e4d2;\n",
       "  --sklearn-color-unfitted-level-2: #ffe0b3;\n",
       "  --sklearn-color-unfitted-level-3: chocolate;\n",
       "  /* Definition of color scheme for fitted estimators */\n",
       "  --sklearn-color-fitted-level-0: #f0f8ff;\n",
       "  --sklearn-color-fitted-level-1: #d4ebff;\n",
       "  --sklearn-color-fitted-level-2: #b3dbfd;\n",
       "  --sklearn-color-fitted-level-3: cornflowerblue;\n",
       "\n",
       "  /* Specific color for light theme */\n",
       "  --sklearn-color-text-on-default-background: var(--sg-text-color, var(--theme-code-foreground, var(--jp-content-font-color1, black)));\n",
       "  --sklearn-color-background: var(--sg-background-color, var(--theme-background, var(--jp-layout-color0, white)));\n",
       "  --sklearn-color-border-box: var(--sg-text-color, var(--theme-code-foreground, var(--jp-content-font-color1, black)));\n",
       "  --sklearn-color-icon: #696969;\n",
       "\n",
       "  @media (prefers-color-scheme: dark) {\n",
       "    /* Redefinition of color scheme for dark theme */\n",
       "    --sklearn-color-text-on-default-background: var(--sg-text-color, var(--theme-code-foreground, var(--jp-content-font-color1, white)));\n",
       "    --sklearn-color-background: var(--sg-background-color, var(--theme-background, var(--jp-layout-color0, #111)));\n",
       "    --sklearn-color-border-box: var(--sg-text-color, var(--theme-code-foreground, var(--jp-content-font-color1, white)));\n",
       "    --sklearn-color-icon: #878787;\n",
       "  }\n",
       "}\n",
       "\n",
       "#sk-container-id-1 {\n",
       "  color: var(--sklearn-color-text);\n",
       "}\n",
       "\n",
       "#sk-container-id-1 pre {\n",
       "  padding: 0;\n",
       "}\n",
       "\n",
       "#sk-container-id-1 input.sk-hidden--visually {\n",
       "  border: 0;\n",
       "  clip: rect(1px 1px 1px 1px);\n",
       "  clip: rect(1px, 1px, 1px, 1px);\n",
       "  height: 1px;\n",
       "  margin: -1px;\n",
       "  overflow: hidden;\n",
       "  padding: 0;\n",
       "  position: absolute;\n",
       "  width: 1px;\n",
       "}\n",
       "\n",
       "#sk-container-id-1 div.sk-dashed-wrapped {\n",
       "  border: 1px dashed var(--sklearn-color-line);\n",
       "  margin: 0 0.4em 0.5em 0.4em;\n",
       "  box-sizing: border-box;\n",
       "  padding-bottom: 0.4em;\n",
       "  background-color: var(--sklearn-color-background);\n",
       "}\n",
       "\n",
       "#sk-container-id-1 div.sk-container {\n",
       "  /* jupyter's `normalize.less` sets `[hidden] { display: none; }`\n",
       "     but bootstrap.min.css set `[hidden] { display: none !important; }`\n",
       "     so we also need the `!important` here to be able to override the\n",
       "     default hidden behavior on the sphinx rendered scikit-learn.org.\n",
       "     See: https://github.com/scikit-learn/scikit-learn/issues/21755 */\n",
       "  display: inline-block !important;\n",
       "  position: relative;\n",
       "}\n",
       "\n",
       "#sk-container-id-1 div.sk-text-repr-fallback {\n",
       "  display: none;\n",
       "}\n",
       "\n",
       "div.sk-parallel-item,\n",
       "div.sk-serial,\n",
       "div.sk-item {\n",
       "  /* draw centered vertical line to link estimators */\n",
       "  background-image: linear-gradient(var(--sklearn-color-text-on-default-background), var(--sklearn-color-text-on-default-background));\n",
       "  background-size: 2px 100%;\n",
       "  background-repeat: no-repeat;\n",
       "  background-position: center center;\n",
       "}\n",
       "\n",
       "/* Parallel-specific style estimator block */\n",
       "\n",
       "#sk-container-id-1 div.sk-parallel-item::after {\n",
       "  content: \"\";\n",
       "  width: 100%;\n",
       "  border-bottom: 2px solid var(--sklearn-color-text-on-default-background);\n",
       "  flex-grow: 1;\n",
       "}\n",
       "\n",
       "#sk-container-id-1 div.sk-parallel {\n",
       "  display: flex;\n",
       "  align-items: stretch;\n",
       "  justify-content: center;\n",
       "  background-color: var(--sklearn-color-background);\n",
       "  position: relative;\n",
       "}\n",
       "\n",
       "#sk-container-id-1 div.sk-parallel-item {\n",
       "  display: flex;\n",
       "  flex-direction: column;\n",
       "}\n",
       "\n",
       "#sk-container-id-1 div.sk-parallel-item:first-child::after {\n",
       "  align-self: flex-end;\n",
       "  width: 50%;\n",
       "}\n",
       "\n",
       "#sk-container-id-1 div.sk-parallel-item:last-child::after {\n",
       "  align-self: flex-start;\n",
       "  width: 50%;\n",
       "}\n",
       "\n",
       "#sk-container-id-1 div.sk-parallel-item:only-child::after {\n",
       "  width: 0;\n",
       "}\n",
       "\n",
       "/* Serial-specific style estimator block */\n",
       "\n",
       "#sk-container-id-1 div.sk-serial {\n",
       "  display: flex;\n",
       "  flex-direction: column;\n",
       "  align-items: center;\n",
       "  background-color: var(--sklearn-color-background);\n",
       "  padding-right: 1em;\n",
       "  padding-left: 1em;\n",
       "}\n",
       "\n",
       "\n",
       "/* Toggleable style: style used for estimator/Pipeline/ColumnTransformer box that is\n",
       "clickable and can be expanded/collapsed.\n",
       "- Pipeline and ColumnTransformer use this feature and define the default style\n",
       "- Estimators will overwrite some part of the style using the `sk-estimator` class\n",
       "*/\n",
       "\n",
       "/* Pipeline and ColumnTransformer style (default) */\n",
       "\n",
       "#sk-container-id-1 div.sk-toggleable {\n",
       "  /* Default theme specific background. It is overwritten whether we have a\n",
       "  specific estimator or a Pipeline/ColumnTransformer */\n",
       "  background-color: var(--sklearn-color-background);\n",
       "}\n",
       "\n",
       "/* Toggleable label */\n",
       "#sk-container-id-1 label.sk-toggleable__label {\n",
       "  cursor: pointer;\n",
       "  display: block;\n",
       "  width: 100%;\n",
       "  margin-bottom: 0;\n",
       "  padding: 0.5em;\n",
       "  box-sizing: border-box;\n",
       "  text-align: center;\n",
       "}\n",
       "\n",
       "#sk-container-id-1 label.sk-toggleable__label-arrow:before {\n",
       "  /* Arrow on the left of the label */\n",
       "  content: \"▸\";\n",
       "  float: left;\n",
       "  margin-right: 0.25em;\n",
       "  color: var(--sklearn-color-icon);\n",
       "}\n",
       "\n",
       "#sk-container-id-1 label.sk-toggleable__label-arrow:hover:before {\n",
       "  color: var(--sklearn-color-text);\n",
       "}\n",
       "\n",
       "/* Toggleable content - dropdown */\n",
       "\n",
       "#sk-container-id-1 div.sk-toggleable__content {\n",
       "  max-height: 0;\n",
       "  max-width: 0;\n",
       "  overflow: hidden;\n",
       "  text-align: left;\n",
       "  /* unfitted */\n",
       "  background-color: var(--sklearn-color-unfitted-level-0);\n",
       "}\n",
       "\n",
       "#sk-container-id-1 div.sk-toggleable__content.fitted {\n",
       "  /* fitted */\n",
       "  background-color: var(--sklearn-color-fitted-level-0);\n",
       "}\n",
       "\n",
       "#sk-container-id-1 div.sk-toggleable__content pre {\n",
       "  margin: 0.2em;\n",
       "  border-radius: 0.25em;\n",
       "  color: var(--sklearn-color-text);\n",
       "  /* unfitted */\n",
       "  background-color: var(--sklearn-color-unfitted-level-0);\n",
       "}\n",
       "\n",
       "#sk-container-id-1 div.sk-toggleable__content.fitted pre {\n",
       "  /* unfitted */\n",
       "  background-color: var(--sklearn-color-fitted-level-0);\n",
       "}\n",
       "\n",
       "#sk-container-id-1 input.sk-toggleable__control:checked~div.sk-toggleable__content {\n",
       "  /* Expand drop-down */\n",
       "  max-height: 200px;\n",
       "  max-width: 100%;\n",
       "  overflow: auto;\n",
       "}\n",
       "\n",
       "#sk-container-id-1 input.sk-toggleable__control:checked~label.sk-toggleable__label-arrow:before {\n",
       "  content: \"▾\";\n",
       "}\n",
       "\n",
       "/* Pipeline/ColumnTransformer-specific style */\n",
       "\n",
       "#sk-container-id-1 div.sk-label input.sk-toggleable__control:checked~label.sk-toggleable__label {\n",
       "  color: var(--sklearn-color-text);\n",
       "  background-color: var(--sklearn-color-unfitted-level-2);\n",
       "}\n",
       "\n",
       "#sk-container-id-1 div.sk-label.fitted input.sk-toggleable__control:checked~label.sk-toggleable__label {\n",
       "  background-color: var(--sklearn-color-fitted-level-2);\n",
       "}\n",
       "\n",
       "/* Estimator-specific style */\n",
       "\n",
       "/* Colorize estimator box */\n",
       "#sk-container-id-1 div.sk-estimator input.sk-toggleable__control:checked~label.sk-toggleable__label {\n",
       "  /* unfitted */\n",
       "  background-color: var(--sklearn-color-unfitted-level-2);\n",
       "}\n",
       "\n",
       "#sk-container-id-1 div.sk-estimator.fitted input.sk-toggleable__control:checked~label.sk-toggleable__label {\n",
       "  /* fitted */\n",
       "  background-color: var(--sklearn-color-fitted-level-2);\n",
       "}\n",
       "\n",
       "#sk-container-id-1 div.sk-label label.sk-toggleable__label,\n",
       "#sk-container-id-1 div.sk-label label {\n",
       "  /* The background is the default theme color */\n",
       "  color: var(--sklearn-color-text-on-default-background);\n",
       "}\n",
       "\n",
       "/* On hover, darken the color of the background */\n",
       "#sk-container-id-1 div.sk-label:hover label.sk-toggleable__label {\n",
       "  color: var(--sklearn-color-text);\n",
       "  background-color: var(--sklearn-color-unfitted-level-2);\n",
       "}\n",
       "\n",
       "/* Label box, darken color on hover, fitted */\n",
       "#sk-container-id-1 div.sk-label.fitted:hover label.sk-toggleable__label.fitted {\n",
       "  color: var(--sklearn-color-text);\n",
       "  background-color: var(--sklearn-color-fitted-level-2);\n",
       "}\n",
       "\n",
       "/* Estimator label */\n",
       "\n",
       "#sk-container-id-1 div.sk-label label {\n",
       "  font-family: monospace;\n",
       "  font-weight: bold;\n",
       "  display: inline-block;\n",
       "  line-height: 1.2em;\n",
       "}\n",
       "\n",
       "#sk-container-id-1 div.sk-label-container {\n",
       "  text-align: center;\n",
       "}\n",
       "\n",
       "/* Estimator-specific */\n",
       "#sk-container-id-1 div.sk-estimator {\n",
       "  font-family: monospace;\n",
       "  border: 1px dotted var(--sklearn-color-border-box);\n",
       "  border-radius: 0.25em;\n",
       "  box-sizing: border-box;\n",
       "  margin-bottom: 0.5em;\n",
       "  /* unfitted */\n",
       "  background-color: var(--sklearn-color-unfitted-level-0);\n",
       "}\n",
       "\n",
       "#sk-container-id-1 div.sk-estimator.fitted {\n",
       "  /* fitted */\n",
       "  background-color: var(--sklearn-color-fitted-level-0);\n",
       "}\n",
       "\n",
       "/* on hover */\n",
       "#sk-container-id-1 div.sk-estimator:hover {\n",
       "  /* unfitted */\n",
       "  background-color: var(--sklearn-color-unfitted-level-2);\n",
       "}\n",
       "\n",
       "#sk-container-id-1 div.sk-estimator.fitted:hover {\n",
       "  /* fitted */\n",
       "  background-color: var(--sklearn-color-fitted-level-2);\n",
       "}\n",
       "\n",
       "/* Specification for estimator info (e.g. \"i\" and \"?\") */\n",
       "\n",
       "/* Common style for \"i\" and \"?\" */\n",
       "\n",
       ".sk-estimator-doc-link,\n",
       "a:link.sk-estimator-doc-link,\n",
       "a:visited.sk-estimator-doc-link {\n",
       "  float: right;\n",
       "  font-size: smaller;\n",
       "  line-height: 1em;\n",
       "  font-family: monospace;\n",
       "  background-color: var(--sklearn-color-background);\n",
       "  border-radius: 1em;\n",
       "  height: 1em;\n",
       "  width: 1em;\n",
       "  text-decoration: none !important;\n",
       "  margin-left: 1ex;\n",
       "  /* unfitted */\n",
       "  border: var(--sklearn-color-unfitted-level-1) 1pt solid;\n",
       "  color: var(--sklearn-color-unfitted-level-1);\n",
       "}\n",
       "\n",
       ".sk-estimator-doc-link.fitted,\n",
       "a:link.sk-estimator-doc-link.fitted,\n",
       "a:visited.sk-estimator-doc-link.fitted {\n",
       "  /* fitted */\n",
       "  border: var(--sklearn-color-fitted-level-1) 1pt solid;\n",
       "  color: var(--sklearn-color-fitted-level-1);\n",
       "}\n",
       "\n",
       "/* On hover */\n",
       "div.sk-estimator:hover .sk-estimator-doc-link:hover,\n",
       ".sk-estimator-doc-link:hover,\n",
       "div.sk-label-container:hover .sk-estimator-doc-link:hover,\n",
       ".sk-estimator-doc-link:hover {\n",
       "  /* unfitted */\n",
       "  background-color: var(--sklearn-color-unfitted-level-3);\n",
       "  color: var(--sklearn-color-background);\n",
       "  text-decoration: none;\n",
       "}\n",
       "\n",
       "div.sk-estimator.fitted:hover .sk-estimator-doc-link.fitted:hover,\n",
       ".sk-estimator-doc-link.fitted:hover,\n",
       "div.sk-label-container:hover .sk-estimator-doc-link.fitted:hover,\n",
       ".sk-estimator-doc-link.fitted:hover {\n",
       "  /* fitted */\n",
       "  background-color: var(--sklearn-color-fitted-level-3);\n",
       "  color: var(--sklearn-color-background);\n",
       "  text-decoration: none;\n",
       "}\n",
       "\n",
       "/* Span, style for the box shown on hovering the info icon */\n",
       ".sk-estimator-doc-link span {\n",
       "  display: none;\n",
       "  z-index: 9999;\n",
       "  position: relative;\n",
       "  font-weight: normal;\n",
       "  right: .2ex;\n",
       "  padding: .5ex;\n",
       "  margin: .5ex;\n",
       "  width: min-content;\n",
       "  min-width: 20ex;\n",
       "  max-width: 50ex;\n",
       "  color: var(--sklearn-color-text);\n",
       "  box-shadow: 2pt 2pt 4pt #999;\n",
       "  /* unfitted */\n",
       "  background: var(--sklearn-color-unfitted-level-0);\n",
       "  border: .5pt solid var(--sklearn-color-unfitted-level-3);\n",
       "}\n",
       "\n",
       ".sk-estimator-doc-link.fitted span {\n",
       "  /* fitted */\n",
       "  background: var(--sklearn-color-fitted-level-0);\n",
       "  border: var(--sklearn-color-fitted-level-3);\n",
       "}\n",
       "\n",
       ".sk-estimator-doc-link:hover span {\n",
       "  display: block;\n",
       "}\n",
       "\n",
       "/* \"?\"-specific style due to the `<a>` HTML tag */\n",
       "\n",
       "#sk-container-id-1 a.estimator_doc_link {\n",
       "  float: right;\n",
       "  font-size: 1rem;\n",
       "  line-height: 1em;\n",
       "  font-family: monospace;\n",
       "  background-color: var(--sklearn-color-background);\n",
       "  border-radius: 1rem;\n",
       "  height: 1rem;\n",
       "  width: 1rem;\n",
       "  text-decoration: none;\n",
       "  /* unfitted */\n",
       "  color: var(--sklearn-color-unfitted-level-1);\n",
       "  border: var(--sklearn-color-unfitted-level-1) 1pt solid;\n",
       "}\n",
       "\n",
       "#sk-container-id-1 a.estimator_doc_link.fitted {\n",
       "  /* fitted */\n",
       "  border: var(--sklearn-color-fitted-level-1) 1pt solid;\n",
       "  color: var(--sklearn-color-fitted-level-1);\n",
       "}\n",
       "\n",
       "/* On hover */\n",
       "#sk-container-id-1 a.estimator_doc_link:hover {\n",
       "  /* unfitted */\n",
       "  background-color: var(--sklearn-color-unfitted-level-3);\n",
       "  color: var(--sklearn-color-background);\n",
       "  text-decoration: none;\n",
       "}\n",
       "\n",
       "#sk-container-id-1 a.estimator_doc_link.fitted:hover {\n",
       "  /* fitted */\n",
       "  background-color: var(--sklearn-color-fitted-level-3);\n",
       "}\n",
       "</style><div id=\"sk-container-id-1\" class=\"sk-top-container\"><div class=\"sk-text-repr-fallback\"><pre>RandomForestClassifier(max_depth=5, max_samples=0.9, min_samples_leaf=2,\n",
       "                       min_samples_split=0.01, random_state=0)</pre><b>In a Jupyter environment, please rerun this cell to show the HTML representation or trust the notebook. <br />On GitHub, the HTML representation is unable to render, please try loading this page with nbviewer.org.</b></div><div class=\"sk-container\" hidden><div class=\"sk-item\"><div class=\"sk-estimator fitted sk-toggleable\"><input class=\"sk-toggleable__control sk-hidden--visually\" id=\"sk-estimator-id-1\" type=\"checkbox\" checked><label for=\"sk-estimator-id-1\" class=\"sk-toggleable__label fitted sk-toggleable__label-arrow fitted\">&nbsp;&nbsp;RandomForestClassifier<a class=\"sk-estimator-doc-link fitted\" rel=\"noreferrer\" target=\"_blank\" href=\"https://scikit-learn.org/1.5/modules/generated/sklearn.ensemble.RandomForestClassifier.html\">?<span>Documentation for RandomForestClassifier</span></a><span class=\"sk-estimator-doc-link fitted\">i<span>Fitted</span></span></label><div class=\"sk-toggleable__content fitted\"><pre>RandomForestClassifier(max_depth=5, max_samples=0.9, min_samples_leaf=2,\n",
       "                       min_samples_split=0.01, random_state=0)</pre></div> </div></div></div></div>"
      ],
      "text/plain": [
       "RandomForestClassifier(max_depth=5, max_samples=0.9, min_samples_leaf=2,\n",
       "                       min_samples_split=0.01, random_state=0)"
      ]
     },
     "execution_count": 23,
     "metadata": {},
     "output_type": "execute_result"
    }
   ],
   "source": [
    "rf_optimal = RandomForestClassifier(**rf_grid.best_params_, random_state=0)\n",
    "rf_optimal.fit(X_train, y_train)"
   ]
  },
  {
   "cell_type": "code",
   "execution_count": 24,
   "id": "4881e288",
   "metadata": {
    "execution": {
     "iopub.execute_input": "2024-10-17T19:01:24.284639Z",
     "iopub.status.busy": "2024-10-17T19:01:24.284150Z",
     "iopub.status.idle": "2024-10-17T19:01:24.580403Z",
     "shell.execute_reply": "2024-10-17T19:01:24.579073Z"
    },
    "papermill": {
     "duration": 0.311719,
     "end_time": "2024-10-17T19:01:24.583184",
     "exception": false,
     "start_time": "2024-10-17T19:01:24.271465",
     "status": "completed"
    },
    "tags": []
   },
   "outputs": [
    {
     "data": {
      "image/png": "[encoded data removed]",
      "text/plain": [
       "<Figure size 640x480 with 1 Axes>"
      ]
     },
     "metadata": {},
     "output_type": "display_data"
    }
   ],
   "source": [
    "sns.barplot(x=rf_optimal.feature_importances_, y=features.columns)\n",
    "plt.show()"
   ]
  },
  {
   "cell_type": "code",
   "execution_count": 25,
   "id": "97421936",
   "metadata": {
    "execution": {
     "iopub.execute_input": "2024-10-17T19:01:24.609423Z",
     "iopub.status.busy": "2024-10-17T19:01:24.608929Z",
     "iopub.status.idle": "2024-10-17T19:01:24.628353Z",
     "shell.execute_reply": "2024-10-17T19:01:24.626666Z"
    },
    "papermill": {
     "duration": 0.035978,
     "end_time": "2024-10-17T19:01:24.631340",
     "exception": false,
     "start_time": "2024-10-17T19:01:24.595362",
     "status": "completed"
    },
    "tags": []
   },
   "outputs": [],
   "source": [
    "# Predict on test subset\n",
    "y_pred = rf_optimal.predict(X_test)"
   ]
  },
  {
   "cell_type": "code",
   "execution_count": 26,
   "id": "003f415e",
   "metadata": {
    "execution": {
     "iopub.execute_input": "2024-10-17T19:01:24.658639Z",
     "iopub.status.busy": "2024-10-17T19:01:24.657625Z",
     "iopub.status.idle": "2024-10-17T19:01:24.677954Z",
     "shell.execute_reply": "2024-10-17T19:01:24.676271Z"
    },
    "papermill": {
     "duration": 0.037243,
     "end_time": "2024-10-17T19:01:24.680917",
     "exception": false,
     "start_time": "2024-10-17T19:01:24.643674",
     "status": "completed"
    },
    "tags": []
   },
   "outputs": [
    {
     "name": "stdout",
     "output_type": "stream",
     "text": [
      "Accuracy: 0.7640449438202247\n",
      "F1 Score: 0.676923076923077\n",
      "Precision: 0.7719298245614035\n",
      "Recall: 0.6027397260273972\n"
     ]
    }
   ],
   "source": [
    "# Performance Metrics\n",
    "print(\"Accuracy:\", accuracy_score(y_test, y_pred))\n",
    "print(\"F1 Score:\", f1_score(y_test, y_pred))\n",
    "print(\"Precision:\", precision_score(y_test, y_pred))\n",
    "print(\"Recall:\", recall_score(y_test, y_pred))"
   ]
  },
  {
   "cell_type": "code",
   "execution_count": 27,
   "id": "cd792946",
   "metadata": {
    "execution": {
     "iopub.execute_input": "2024-10-17T19:01:24.707945Z",
     "iopub.status.busy": "2024-10-17T19:01:24.707369Z",
     "iopub.status.idle": "2024-10-17T19:01:24.731747Z",
     "shell.execute_reply": "2024-10-17T19:01:24.730328Z"
    },
    "papermill": {
     "duration": 0.041435,
     "end_time": "2024-10-17T19:01:24.734723",
     "exception": false,
     "start_time": "2024-10-17T19:01:24.693288",
     "status": "completed"
    },
    "tags": []
   },
   "outputs": [],
   "source": [
    "predictions = rf_optimal.predict(test_set)"
   ]
  },
  {
   "cell_type": "code",
   "execution_count": 28,
   "id": "09281ce1",
   "metadata": {
    "execution": {
     "iopub.execute_input": "2024-10-17T19:01:24.760691Z",
     "iopub.status.busy": "2024-10-17T19:01:24.760223Z",
     "iopub.status.idle": "2024-10-17T19:01:24.775485Z",
     "shell.execute_reply": "2024-10-17T19:01:24.774123Z"
    },
    "papermill": {
     "duration": 0.031628,
     "end_time": "2024-10-17T19:01:24.778258",
     "exception": false,
     "start_time": "2024-10-17T19:01:24.746630",
     "status": "completed"
    },
    "tags": []
   },
   "outputs": [],
   "source": [
    "output = pd.DataFrame({\"PassengerId\": test_copy.PassengerId, \"Survived\": predictions})\n",
    "output.to_csv(\"prediction.csv\", index=False)"
   ]
  },
  {
   "cell_type": "code",
   "execution_count": null,
   "id": "8ba35915",
   "metadata": {},
   "outputs": [],
   "source": []
  }
 ],
 "metadata": {
  "kaggle": {
   "accelerator": "none",
   "dataSources": [
    {
     "databundleVersionId": 26502,
     "sourceId": 3136,
     "sourceType": "competition"
    }
   ],
   "dockerImageVersionId": 30786,
   "isGpuEnabled": false,
   "isInternetEnabled": true,
   "language": "python",
   "sourceType": "notebook"
  },
  "kernelspec": {
   "display_name": "venv",
   "language": "python",
   "name": "python3"
  },
  "language_info": {
   "codemirror_mode": {
    "name": "ipython",
    "version": 3
   },
   "file_extension": ".py",
   "mimetype": "text/x-python",
   "name": "python",
   "nbconvert_exporter": "python",
   "pygments_lexer": "ipython3",
   "version": "3.12.4"
  },
  "papermill": {
   "default_parameters": {},
   "duration": 137.846384,
   "end_time": "2024-10-17T19:01:27.412528",
   "environment_variables": {},
   "exception": null,
   "input_path": "__notebook__.ipynb",
   "output_path": "__notebook__.ipynb",
   "parameters": {},
   "start_time": "2024-10-17T18:59:09.566144",
   "version": "2.6.0"
  }
 },
 "nbformat": 4,
 "nbformat_minor": 5
}
